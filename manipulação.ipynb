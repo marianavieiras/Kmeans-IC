{
 "cells": [
  {
   "attachments": {},
   "cell_type": "markdown",
   "metadata": {},
   "source": [
    "## Recursos Necessários\n",
    "\n",
    "Para este *notebook*, deve ser utilizado o `Python 3.5` ou superior com as seguintes bibliotecas externas, alguns exemplos que deverão ser instaladas:\n",
    "\n",
    "* [`matplotlib`](https://matplotlib.org/): Construção e exibição de gráficos variados\n",
    "* [`seaborn`](https://seaborn.pydata.org/): Construção e exibição de gráficos variados\n",
    "* [`pandas`](https://pandas.pydata.org/pandas-docs/stable/index.html): Manipulação de dados em formato de tabelas\n",
    "* [`numpy`](https://numpy.org): Manipulação de dados em formato de vetores e matrizes\n",
    "\n",
    "\n",
    "Primeiro, deve-se importar todas as bibliotecas que serão usadas ao longo deste notebook."
   ]
  },
  {
   "cell_type": "code",
   "execution_count": 1,
   "metadata": {},
   "outputs": [],
   "source": [
    "from pca import pca\n",
    "from sklearn.preprocessing import MinMaxScaler\n",
    "from sklearn.decomposition import PCA\n",
    "import plotly.express as px\n",
    "import plotly.offline as py\n",
    "import plotly.graph_objs as go\n",
    "from IPython.display import Image\n",
    "import pandas as pd\n",
    "import numpy as np\n",
    "import matplotlib.pyplot as plt"
   ]
  },
  {
   "cell_type": "code",
   "execution_count": 2,
   "metadata": {},
   "outputs": [
    {
     "name": "stdout",
     "output_type": "stream",
     "text": [
      "Requirement already satisfied: pca in c:\\users\\ronaldo\\appdata\\local\\programs\\python\\python311\\lib\\site-packages (2.0.3)\n",
      "Requirement already satisfied: datazets in c:\\users\\ronaldo\\appdata\\local\\programs\\python\\python311\\lib\\site-packages (from pca) (0.1.6)\n",
      "Requirement already satisfied: statsmodels in c:\\users\\ronaldo\\appdata\\local\\programs\\python\\python311\\lib\\site-packages (from pca) (0.14.0)\n",
      "Requirement already satisfied: matplotlib in c:\\users\\ronaldo\\appdata\\local\\programs\\python\\python311\\lib\\site-packages (from pca) (3.7.1)\n",
      "Requirement already satisfied: numpy in c:\\users\\ronaldo\\appdata\\local\\programs\\python\\python311\\lib\\site-packages (from pca) (1.24.2)\n",
      "Requirement already satisfied: scikit-learn in c:\\users\\ronaldo\\appdata\\local\\programs\\python\\python311\\lib\\site-packages (from pca) (1.2.2)\n",
      "Requirement already satisfied: scipy in c:\\users\\ronaldo\\appdata\\local\\programs\\python\\python311\\lib\\site-packages (from pca) (1.10.1)\n",
      "Requirement already satisfied: colourmap>=1.1.14 in c:\\users\\ronaldo\\appdata\\local\\programs\\python\\python311\\lib\\site-packages (from pca) (1.1.14)\n",
      "Requirement already satisfied: pandas in c:\\users\\ronaldo\\appdata\\local\\programs\\python\\python311\\lib\\site-packages (from pca) (2.0.0)\n",
      "Requirement already satisfied: scatterd>=1.3.1 in c:\\users\\ronaldo\\appdata\\local\\programs\\python\\python311\\lib\\site-packages (from pca) (1.3.5)\n",
      "Requirement already satisfied: adjusttext in c:\\users\\ronaldo\\appdata\\local\\programs\\python\\python311\\lib\\site-packages (from pca) (0.8)\n",
      "Requirement already satisfied: seaborn in c:\\users\\ronaldo\\appdata\\local\\programs\\python\\python311\\lib\\site-packages (from scatterd>=1.3.1->pca) (0.12.2)\n",
      "Requirement already satisfied: requests in c:\\users\\ronaldo\\appdata\\local\\programs\\python\\python311\\lib\\site-packages (from scatterd>=1.3.1->pca) (2.31.0)\n",
      "Requirement already satisfied: contourpy>=1.0.1 in c:\\users\\ronaldo\\appdata\\local\\programs\\python\\python311\\lib\\site-packages (from matplotlib->pca) (1.0.7)\n",
      "Requirement already satisfied: cycler>=0.10 in c:\\users\\ronaldo\\appdata\\local\\programs\\python\\python311\\lib\\site-packages (from matplotlib->pca) (0.11.0)\n",
      "Requirement already satisfied: fonttools>=4.22.0 in c:\\users\\ronaldo\\appdata\\local\\programs\\python\\python311\\lib\\site-packages (from matplotlib->pca) (4.39.3)\n",
      "Requirement already satisfied: kiwisolver>=1.0.1 in c:\\users\\ronaldo\\appdata\\local\\programs\\python\\python311\\lib\\site-packages (from matplotlib->pca) (1.4.4)\n",
      "Requirement already satisfied: packaging>=20.0 in c:\\users\\ronaldo\\appdata\\roaming\\python\\python311\\site-packages (from matplotlib->pca) (23.0)\n",
      "Requirement already satisfied: pillow>=6.2.0 in c:\\users\\ronaldo\\appdata\\local\\programs\\python\\python311\\lib\\site-packages (from matplotlib->pca) (9.5.0)\n",
      "Requirement already satisfied: pyparsing>=2.3.1 in c:\\users\\ronaldo\\appdata\\local\\programs\\python\\python311\\lib\\site-packages (from matplotlib->pca) (3.0.9)\n",
      "Requirement already satisfied: python-dateutil>=2.7 in c:\\users\\ronaldo\\appdata\\roaming\\python\\python311\\site-packages (from matplotlib->pca) (2.8.2)\n",
      "Requirement already satisfied: pytz>=2020.1 in c:\\users\\ronaldo\\appdata\\local\\programs\\python\\python311\\lib\\site-packages (from pandas->pca) (2023.3)\n",
      "Requirement already satisfied: tzdata>=2022.1 in c:\\users\\ronaldo\\appdata\\local\\programs\\python\\python311\\lib\\site-packages (from pandas->pca) (2023.3)\n",
      "Requirement already satisfied: joblib>=1.1.1 in c:\\users\\ronaldo\\appdata\\local\\programs\\python\\python311\\lib\\site-packages (from scikit-learn->pca) (1.2.0)\n",
      "Requirement already satisfied: threadpoolctl>=2.0.0 in c:\\users\\ronaldo\\appdata\\local\\programs\\python\\python311\\lib\\site-packages (from scikit-learn->pca) (3.1.0)\n",
      "Requirement already satisfied: patsy>=0.5.2 in c:\\users\\ronaldo\\appdata\\local\\programs\\python\\python311\\lib\\site-packages (from statsmodels->pca) (0.5.3)\n",
      "Requirement already satisfied: six in c:\\users\\ronaldo\\appdata\\roaming\\python\\python311\\site-packages (from patsy>=0.5.2->statsmodels->pca) (1.16.0)\n",
      "Requirement already satisfied: charset-normalizer<4,>=2 in c:\\users\\ronaldo\\appdata\\local\\programs\\python\\python311\\lib\\site-packages (from requests->scatterd>=1.3.1->pca) (3.1.0)\n",
      "Requirement already satisfied: idna<4,>=2.5 in c:\\users\\ronaldo\\appdata\\local\\programs\\python\\python311\\lib\\site-packages (from requests->scatterd>=1.3.1->pca) (3.4)\n",
      "Requirement already satisfied: urllib3<3,>=1.21.1 in c:\\users\\ronaldo\\appdata\\local\\programs\\python\\python311\\lib\\site-packages (from requests->scatterd>=1.3.1->pca) (2.0.3)\n",
      "Requirement already satisfied: certifi>=2017.4.17 in c:\\users\\ronaldo\\appdata\\local\\programs\\python\\python311\\lib\\site-packages (from requests->scatterd>=1.3.1->pca) (2023.5.7)\n",
      "Note: you may need to restart the kernel to use updated packages.\n"
     ]
    },
    {
     "name": "stderr",
     "output_type": "stream",
     "text": [
      "\n",
      "[notice] A new release of pip available: 22.3.1 -> 23.1.2\n",
      "[notice] To update, run: python.exe -m pip install --upgrade pip\n"
     ]
    }
   ],
   "source": [
    "pip install pca"
   ]
  },
  {
   "cell_type": "code",
   "execution_count": 3,
   "metadata": {},
   "outputs": [
    {
     "name": "stdout",
     "output_type": "stream",
     "text": [
      "Requirement already satisfied: plotly in c:\\users\\ronaldo\\appdata\\local\\programs\\python\\python311\\lib\\site-packages (5.15.0)\n",
      "Requirement already satisfied: tenacity>=6.2.0 in c:\\users\\ronaldo\\appdata\\local\\programs\\python\\python311\\lib\\site-packages (from plotly) (8.2.2)\n",
      "Requirement already satisfied: packaging in c:\\users\\ronaldo\\appdata\\roaming\\python\\python311\\site-packages (from plotly) (23.0)\n",
      "Note: you may need to restart the kernel to use updated packages.\n"
     ]
    },
    {
     "name": "stderr",
     "output_type": "stream",
     "text": [
      "\n",
      "[notice] A new release of pip available: 22.3.1 -> 23.1.2\n",
      "[notice] To update, run: python.exe -m pip install --upgrade pip\n"
     ]
    }
   ],
   "source": [
    "pip install plotly"
   ]
  },
  {
   "attachments": {},
   "cell_type": "markdown",
   "metadata": {},
   "source": [
    "## Aplicação do PCA\n",
    "O PCA é uma técnica usada para reduzir a dimensionalidade de conjuntos de dados de alta dimensionalidade.\n",
    "\n",
    "Os passos básicos para aplicar o PCA são:\n",
    "\n",
    "* Padronizar os dados para garantir que todas as variáveis tenham a mesma escala.\n",
    "* Calcular a matriz de covariância ou correlação dos dados.\n",
    "* Calcular os autovetores e autovalores da matriz de covariância ou correlação.\n",
    "* Selecionar os componentes principais com base nos autovalores.\n",
    "* Projetar os dados nos componentes principais selecionados.\n",
    "\n",
    "O resultado é uma representação de menor dimensionalidade dos dados originais, onde as dimensões são os componentes principais selecionados. "
   ]
  },
  {
   "cell_type": "code",
   "execution_count": 4,
   "metadata": {},
   "outputs": [],
   "source": [
    "# Importa o arquivo e guarda em um dataframe do Pandas\n",
    "df_pca = pd.read_excel('df_categorico.xlsx', index_col = 0)"
   ]
  },
  {
   "attachments": {},
   "cell_type": "markdown",
   "metadata": {},
   "source": [
    "O código abaixo realiza a ***normalização dos dados***, transformando-os para uma escala entre 0 e 1. Isso é útil para garantir que todas as variáveis tenham a mesma faixa de valores antes de aplicar o PCA."
   ]
  },
  {
   "cell_type": "code",
   "execution_count": 5,
   "metadata": {},
   "outputs": [],
   "source": [
    "X = df_pca.iloc[:,:].values\n",
    "scaler = MinMaxScaler()\n",
    "X = scaler.fit_transform(X)\n"
   ]
  },
  {
   "cell_type": "code",
   "execution_count": 6,
   "metadata": {},
   "outputs": [
    {
     "data": {
      "text/html": [
       "<style>#sk-container-id-1 {color: black;background-color: white;}#sk-container-id-1 pre{padding: 0;}#sk-container-id-1 div.sk-toggleable {background-color: white;}#sk-container-id-1 label.sk-toggleable__label {cursor: pointer;display: block;width: 100%;margin-bottom: 0;padding: 0.3em;box-sizing: border-box;text-align: center;}#sk-container-id-1 label.sk-toggleable__label-arrow:before {content: \"▸\";float: left;margin-right: 0.25em;color: #696969;}#sk-container-id-1 label.sk-toggleable__label-arrow:hover:before {color: black;}#sk-container-id-1 div.sk-estimator:hover label.sk-toggleable__label-arrow:before {color: black;}#sk-container-id-1 div.sk-toggleable__content {max-height: 0;max-width: 0;overflow: hidden;text-align: left;background-color: #f0f8ff;}#sk-container-id-1 div.sk-toggleable__content pre {margin: 0.2em;color: black;border-radius: 0.25em;background-color: #f0f8ff;}#sk-container-id-1 input.sk-toggleable__control:checked~div.sk-toggleable__content {max-height: 200px;max-width: 100%;overflow: auto;}#sk-container-id-1 input.sk-toggleable__control:checked~label.sk-toggleable__label-arrow:before {content: \"▾\";}#sk-container-id-1 div.sk-estimator input.sk-toggleable__control:checked~label.sk-toggleable__label {background-color: #d4ebff;}#sk-container-id-1 div.sk-label input.sk-toggleable__control:checked~label.sk-toggleable__label {background-color: #d4ebff;}#sk-container-id-1 input.sk-hidden--visually {border: 0;clip: rect(1px 1px 1px 1px);clip: rect(1px, 1px, 1px, 1px);height: 1px;margin: -1px;overflow: hidden;padding: 0;position: absolute;width: 1px;}#sk-container-id-1 div.sk-estimator {font-family: monospace;background-color: #f0f8ff;border: 1px dotted black;border-radius: 0.25em;box-sizing: border-box;margin-bottom: 0.5em;}#sk-container-id-1 div.sk-estimator:hover {background-color: #d4ebff;}#sk-container-id-1 div.sk-parallel-item::after {content: \"\";width: 100%;border-bottom: 1px solid gray;flex-grow: 1;}#sk-container-id-1 div.sk-label:hover label.sk-toggleable__label {background-color: #d4ebff;}#sk-container-id-1 div.sk-serial::before {content: \"\";position: absolute;border-left: 1px solid gray;box-sizing: border-box;top: 0;bottom: 0;left: 50%;z-index: 0;}#sk-container-id-1 div.sk-serial {display: flex;flex-direction: column;align-items: center;background-color: white;padding-right: 0.2em;padding-left: 0.2em;position: relative;}#sk-container-id-1 div.sk-item {position: relative;z-index: 1;}#sk-container-id-1 div.sk-parallel {display: flex;align-items: stretch;justify-content: center;background-color: white;position: relative;}#sk-container-id-1 div.sk-item::before, #sk-container-id-1 div.sk-parallel-item::before {content: \"\";position: absolute;border-left: 1px solid gray;box-sizing: border-box;top: 0;bottom: 0;left: 50%;z-index: -1;}#sk-container-id-1 div.sk-parallel-item {display: flex;flex-direction: column;z-index: 1;position: relative;background-color: white;}#sk-container-id-1 div.sk-parallel-item:first-child::after {align-self: flex-end;width: 50%;}#sk-container-id-1 div.sk-parallel-item:last-child::after {align-self: flex-start;width: 50%;}#sk-container-id-1 div.sk-parallel-item:only-child::after {width: 0;}#sk-container-id-1 div.sk-dashed-wrapped {border: 1px dashed gray;margin: 0 0.4em 0.5em 0.4em;box-sizing: border-box;padding-bottom: 0.4em;background-color: white;}#sk-container-id-1 div.sk-label label {font-family: monospace;font-weight: bold;display: inline-block;line-height: 1.2em;}#sk-container-id-1 div.sk-label-container {text-align: center;}#sk-container-id-1 div.sk-container {/* jupyter's `normalize.less` sets `[hidden] { display: none; }` but bootstrap.min.css set `[hidden] { display: none !important; }` so we also need the `!important` here to be able to override the default hidden behavior on the sphinx rendered scikit-learn.org. See: https://github.com/scikit-learn/scikit-learn/issues/21755 */display: inline-block !important;position: relative;}#sk-container-id-1 div.sk-text-repr-fallback {display: none;}</style><div id=\"sk-container-id-1\" class=\"sk-top-container\"><div class=\"sk-text-repr-fallback\"><pre>PCA()</pre><b>In a Jupyter environment, please rerun this cell to show the HTML representation or trust the notebook. <br />On GitHub, the HTML representation is unable to render, please try loading this page with nbviewer.org.</b></div><div class=\"sk-container\" hidden><div class=\"sk-item\"><div class=\"sk-estimator sk-toggleable\"><input class=\"sk-toggleable__control sk-hidden--visually\" id=\"sk-estimator-id-1\" type=\"checkbox\" checked><label for=\"sk-estimator-id-1\" class=\"sk-toggleable__label sk-toggleable__label-arrow\">PCA</label><div class=\"sk-toggleable__content\"><pre>PCA()</pre></div></div></div></div></div>"
      ],
      "text/plain": [
       "PCA()"
      ]
     },
     "execution_count": 6,
     "metadata": {},
     "output_type": "execute_result"
    }
   ],
   "source": [
    "pca1 = PCA()\n",
    "pca1.fit(X)"
   ]
  },
  {
   "cell_type": "code",
   "execution_count": 7,
   "metadata": {},
   "outputs": [
    {
     "data": {
      "text/html": [
       "<style>#sk-container-id-2 {color: black;background-color: white;}#sk-container-id-2 pre{padding: 0;}#sk-container-id-2 div.sk-toggleable {background-color: white;}#sk-container-id-2 label.sk-toggleable__label {cursor: pointer;display: block;width: 100%;margin-bottom: 0;padding: 0.3em;box-sizing: border-box;text-align: center;}#sk-container-id-2 label.sk-toggleable__label-arrow:before {content: \"▸\";float: left;margin-right: 0.25em;color: #696969;}#sk-container-id-2 label.sk-toggleable__label-arrow:hover:before {color: black;}#sk-container-id-2 div.sk-estimator:hover label.sk-toggleable__label-arrow:before {color: black;}#sk-container-id-2 div.sk-toggleable__content {max-height: 0;max-width: 0;overflow: hidden;text-align: left;background-color: #f0f8ff;}#sk-container-id-2 div.sk-toggleable__content pre {margin: 0.2em;color: black;border-radius: 0.25em;background-color: #f0f8ff;}#sk-container-id-2 input.sk-toggleable__control:checked~div.sk-toggleable__content {max-height: 200px;max-width: 100%;overflow: auto;}#sk-container-id-2 input.sk-toggleable__control:checked~label.sk-toggleable__label-arrow:before {content: \"▾\";}#sk-container-id-2 div.sk-estimator input.sk-toggleable__control:checked~label.sk-toggleable__label {background-color: #d4ebff;}#sk-container-id-2 div.sk-label input.sk-toggleable__control:checked~label.sk-toggleable__label {background-color: #d4ebff;}#sk-container-id-2 input.sk-hidden--visually {border: 0;clip: rect(1px 1px 1px 1px);clip: rect(1px, 1px, 1px, 1px);height: 1px;margin: -1px;overflow: hidden;padding: 0;position: absolute;width: 1px;}#sk-container-id-2 div.sk-estimator {font-family: monospace;background-color: #f0f8ff;border: 1px dotted black;border-radius: 0.25em;box-sizing: border-box;margin-bottom: 0.5em;}#sk-container-id-2 div.sk-estimator:hover {background-color: #d4ebff;}#sk-container-id-2 div.sk-parallel-item::after {content: \"\";width: 100%;border-bottom: 1px solid gray;flex-grow: 1;}#sk-container-id-2 div.sk-label:hover label.sk-toggleable__label {background-color: #d4ebff;}#sk-container-id-2 div.sk-serial::before {content: \"\";position: absolute;border-left: 1px solid gray;box-sizing: border-box;top: 0;bottom: 0;left: 50%;z-index: 0;}#sk-container-id-2 div.sk-serial {display: flex;flex-direction: column;align-items: center;background-color: white;padding-right: 0.2em;padding-left: 0.2em;position: relative;}#sk-container-id-2 div.sk-item {position: relative;z-index: 1;}#sk-container-id-2 div.sk-parallel {display: flex;align-items: stretch;justify-content: center;background-color: white;position: relative;}#sk-container-id-2 div.sk-item::before, #sk-container-id-2 div.sk-parallel-item::before {content: \"\";position: absolute;border-left: 1px solid gray;box-sizing: border-box;top: 0;bottom: 0;left: 50%;z-index: -1;}#sk-container-id-2 div.sk-parallel-item {display: flex;flex-direction: column;z-index: 1;position: relative;background-color: white;}#sk-container-id-2 div.sk-parallel-item:first-child::after {align-self: flex-end;width: 50%;}#sk-container-id-2 div.sk-parallel-item:last-child::after {align-self: flex-start;width: 50%;}#sk-container-id-2 div.sk-parallel-item:only-child::after {width: 0;}#sk-container-id-2 div.sk-dashed-wrapped {border: 1px dashed gray;margin: 0 0.4em 0.5em 0.4em;box-sizing: border-box;padding-bottom: 0.4em;background-color: white;}#sk-container-id-2 div.sk-label label {font-family: monospace;font-weight: bold;display: inline-block;line-height: 1.2em;}#sk-container-id-2 div.sk-label-container {text-align: center;}#sk-container-id-2 div.sk-container {/* jupyter's `normalize.less` sets `[hidden] { display: none; }` but bootstrap.min.css set `[hidden] { display: none !important; }` so we also need the `!important` here to be able to override the default hidden behavior on the sphinx rendered scikit-learn.org. See: https://github.com/scikit-learn/scikit-learn/issues/21755 */display: inline-block !important;position: relative;}#sk-container-id-2 div.sk-text-repr-fallback {display: none;}</style><div id=\"sk-container-id-2\" class=\"sk-top-container\"><div class=\"sk-text-repr-fallback\"><pre>PCA()</pre><b>In a Jupyter environment, please rerun this cell to show the HTML representation or trust the notebook. <br />On GitHub, the HTML representation is unable to render, please try loading this page with nbviewer.org.</b></div><div class=\"sk-container\" hidden><div class=\"sk-item\"><div class=\"sk-estimator sk-toggleable\"><input class=\"sk-toggleable__control sk-hidden--visually\" id=\"sk-estimator-id-2\" type=\"checkbox\" checked><label for=\"sk-estimator-id-2\" class=\"sk-toggleable__label sk-toggleable__label-arrow\">PCA</label><div class=\"sk-toggleable__content\"><pre>PCA()</pre></div></div></div></div></div>"
      ],
      "text/plain": [
       "PCA()"
      ]
     },
     "execution_count": 7,
     "metadata": {},
     "output_type": "execute_result"
    }
   ],
   "source": [
    "PCA()"
   ]
  },
  {
   "cell_type": "code",
   "execution_count": 8,
   "metadata": {},
   "outputs": [
    {
     "data": {
      "text/plain": [
       "array([8.30429063e-01, 7.84483179e-01, 5.18377130e-01, 4.27326006e-01,\n",
       "       4.13959404e-01, 3.88746348e-01, 3.63419895e-01, 3.39095262e-01,\n",
       "       3.29808548e-01, 3.19357373e-01, 3.03092309e-01, 2.90232453e-01,\n",
       "       2.75978545e-01, 2.67236936e-01, 2.61652993e-01, 2.49750709e-01,\n",
       "       2.42522440e-01, 2.28541782e-01, 2.21602808e-01, 2.17223910e-01,\n",
       "       2.05787355e-01, 2.01153044e-01, 1.99623921e-01, 1.98027164e-01,\n",
       "       1.87080699e-01, 1.83983090e-01, 1.70881727e-01, 1.67652842e-01,\n",
       "       1.59873723e-01, 1.56791816e-01, 1.53123084e-01, 1.44866053e-01,\n",
       "       1.40768491e-01, 1.37951500e-01, 1.36246573e-01, 1.31167099e-01,\n",
       "       1.30677791e-01, 1.28172081e-01, 1.24387491e-01, 1.23282588e-01,\n",
       "       1.16782037e-01, 1.10578198e-01, 1.05495318e-01, 1.03411235e-01,\n",
       "       1.00077518e-01, 9.46934752e-02, 8.77909862e-02, 8.49059534e-02,\n",
       "       8.23464580e-02, 8.05076917e-02, 7.77220807e-02, 7.64663995e-02,\n",
       "       7.32398267e-02, 7.18508373e-02, 6.75723759e-02, 6.48643113e-02,\n",
       "       6.04214385e-02, 5.87530027e-02, 5.70676184e-02, 5.65449016e-02,\n",
       "       5.53367464e-02, 5.39663550e-02, 5.11168252e-02, 5.00905590e-02,\n",
       "       4.92019008e-02, 4.81388940e-02, 4.54587669e-02, 3.95849199e-02,\n",
       "       3.48916857e-02, 3.22805019e-02, 3.04254423e-02, 2.92880124e-02,\n",
       "       2.50281381e-02, 2.44466999e-02, 2.34617821e-02, 2.19079517e-02,\n",
       "       2.04822864e-02, 1.25701822e-02, 1.23679259e-02, 1.19589657e-02,\n",
       "       7.55228892e-03, 7.17068822e-03, 7.01123880e-03, 5.98585339e-03,\n",
       "       4.06918258e-03, 2.91953480e-03, 2.87481345e-03, 1.89955984e-03,\n",
       "       1.08822776e-03, 6.02794932e-04, 3.07581846e-04, 1.05231451e-05,\n",
       "       1.78622420e-29, 6.64919176e-31, 3.49043322e-31, 2.02778612e-31,\n",
       "       1.52539618e-31, 8.39586227e-32, 2.36844308e-32, 2.23834307e-32,\n",
       "       1.72339908e-32, 8.67811369e-33, 6.55147705e-33, 4.79713150e-33,\n",
       "       4.79713150e-33, 4.79713150e-33, 4.79713150e-33, 4.79713150e-33,\n",
       "       4.79713150e-33, 4.79713150e-33, 4.79713150e-33, 1.66087812e-33,\n",
       "       4.51231103e-34])"
      ]
     },
     "execution_count": 8,
     "metadata": {},
     "output_type": "execute_result"
    }
   ],
   "source": [
    "pca1.explained_variance_"
   ]
  },
  {
   "attachments": {},
   "cell_type": "markdown",
   "metadata": {},
   "source": [
    "# Gráfico de Scree\n",
    "\n",
    "O gráfico abaixo exibirá a variação explicada pelos componentes principais selecionados. Plotando a variância explicada pelos componentes principais usando os autovalores do objeto PCA (pca1.explained_variance_). "
   ]
  },
  {
   "cell_type": "code",
   "execution_count": 9,
   "metadata": {},
   "outputs": [
    {
     "name": "stderr",
     "output_type": "stream",
     "text": [
      "C:\\Users\\Ronaldo\\AppData\\Local\\Temp\\ipykernel_5464\\3527499616.py:1: MatplotlibDeprecationWarning:\n",
      "\n",
      "The seaborn styles shipped by Matplotlib are deprecated since 3.6, as they no longer correspond to the styles shipped by seaborn. However, they will remain available as 'seaborn-v0_8-<style>'. Alternatively, directly use the seaborn API instead.\n",
      "\n"
     ]
    },
    {
     "data": {
      "image/png": "[encoded data removed]",
      "text/plain": [
       "<Figure size 900x700 with 1 Axes>"
      ]
     },
     "metadata": {},
     "output_type": "display_data"
    }
   ],
   "source": [
    "plt.style.use('seaborn') # estilo de plotagem \"seaborn\"\n",
    "plt.figure(figsize=(9,7)) # tamanho da figura como 9x7\n",
    "plt.plot(range(1, pca1.n_components_ + 1), pca1.explained_variance_, 'ro-', linewidth = 2)\n",
    "plt.title('Scree Plot')\n",
    "plt.xlabel('Componentes Principais')\n",
    "plt.ylabel('Auto valores')\n",
    "plt.show()"
   ]
  },
  {
   "cell_type": "code",
   "execution_count": 10,
   "metadata": {},
   "outputs": [
    {
     "name": "stdout",
     "output_type": "stream",
     "text": [
      "[0.06488273 0.12617563 0.16667725 0.2000649  0.2324082  0.26278156\n",
      " 0.29117613 0.31767017 0.34343863 0.36839052 0.3920716  0.41474792\n",
      " 0.43631056 0.4571902  0.47763356 0.49714697 0.51609563 0.53395196\n",
      " 0.55126613 0.56823818 0.58431667 0.60003307 0.61563    0.63110217\n",
      " 0.64571908 0.66009397 0.67344523 0.68654421 0.69903539 0.71128578\n",
      " 0.72324953 0.73456814 0.7455666  0.75634497 0.76699013 0.77723842\n",
      " 0.78744848 0.79746277 0.80718136 0.81681362 0.82593798 0.83457763\n",
      " 0.84282015 0.85089983 0.85871904 0.86611759 0.87297684 0.87961068\n",
      " 0.88604453 0.89233473 0.89840727 0.90438171 0.91010406 0.91571788\n",
      " 0.92099741 0.92606536 0.93078618 0.93537665 0.93983543 0.94425337\n",
      " 0.94857692 0.9527934  0.95678723 0.96070089 0.96454511 0.96830628\n",
      " 0.97185804 0.97495087 0.97767702 0.98019914 0.98257633 0.98486465\n",
      " 0.98682014 0.98873019 0.9905633  0.992275   0.99387532 0.99485744\n",
      " 0.99582377 0.99675814 0.99734821 0.99790847 0.99845627 0.99892395\n",
      " 0.99924189 0.99946999 0.99969461 0.99984302 0.99992805 0.99997515\n",
      " 0.99999918 1.         1.         1.         1.         1.\n",
      " 1.         1.         1.         1.         1.         1.\n",
      " 1.         1.         1.         1.         1.         1.\n",
      " 1.         1.         1.         1.         1.        ]\n"
     ]
    }
   ],
   "source": [
    "print(pca1.explained_variance_ratio_.cumsum())"
   ]
  },
  {
   "attachments": {},
   "cell_type": "markdown",
   "metadata": {},
   "source": [
    "**Redução da dimensionalidade** de tal forma que o PCA selecione o número mínimo de componentes principais necessários para explicar pelo menos 80% da variância total dos dados. "
   ]
  },
  {
   "cell_type": "code",
   "execution_count": 11,
   "metadata": {},
   "outputs": [],
   "source": [
    "model = pca(n_components=0.80)"
   ]
  },
  {
   "cell_type": "code",
   "execution_count": 12,
   "metadata": {},
   "outputs": [],
   "source": [
    "scores_pca = model.fit_transform(X, verbose=0)"
   ]
  },
  {
   "cell_type": "code",
   "execution_count": 17,
   "metadata": {},
   "outputs": [
    {
     "data": {
      "text/html": [
       "<div>\n",
       "<style scoped>\n",
       "    .dataframe tbody tr th:only-of-type {\n",
       "        vertical-align: middle;\n",
       "    }\n",
       "\n",
       "    .dataframe tbody tr th {\n",
       "        vertical-align: top;\n",
       "    }\n",
       "\n",
       "    .dataframe thead th {\n",
       "        text-align: right;\n",
       "    }\n",
       "</style>\n",
       "<table border=\"1\" class=\"dataframe\">\n",
       "  <thead>\n",
       "    <tr style=\"text-align: right;\">\n",
       "      <th></th>\n",
       "      <th>PC1</th>\n",
       "      <th>PC2</th>\n",
       "      <th>PC3</th>\n",
       "      <th>PC4</th>\n",
       "      <th>PC5</th>\n",
       "      <th>PC6</th>\n",
       "      <th>PC7</th>\n",
       "      <th>PC8</th>\n",
       "      <th>PC9</th>\n",
       "      <th>PC10</th>\n",
       "      <th>...</th>\n",
       "      <th>PC30</th>\n",
       "      <th>PC31</th>\n",
       "      <th>PC32</th>\n",
       "      <th>PC33</th>\n",
       "      <th>PC34</th>\n",
       "      <th>PC35</th>\n",
       "      <th>PC36</th>\n",
       "      <th>PC37</th>\n",
       "      <th>PC38</th>\n",
       "      <th>PC39</th>\n",
       "    </tr>\n",
       "  </thead>\n",
       "  <tbody>\n",
       "    <tr>\n",
       "      <th>0</th>\n",
       "      <td>1.245292</td>\n",
       "      <td>-0.175921</td>\n",
       "      <td>0.531733</td>\n",
       "      <td>-0.520663</td>\n",
       "      <td>-0.107671</td>\n",
       "      <td>-0.745400</td>\n",
       "      <td>-0.207665</td>\n",
       "      <td>-0.473115</td>\n",
       "      <td>0.683213</td>\n",
       "      <td>0.334975</td>\n",
       "      <td>...</td>\n",
       "      <td>0.450597</td>\n",
       "      <td>0.461784</td>\n",
       "      <td>0.332575</td>\n",
       "      <td>-0.650296</td>\n",
       "      <td>-0.117818</td>\n",
       "      <td>0.093831</td>\n",
       "      <td>-0.038031</td>\n",
       "      <td>0.063346</td>\n",
       "      <td>-0.145054</td>\n",
       "      <td>-0.229098</td>\n",
       "    </tr>\n",
       "    <tr>\n",
       "      <th>1</th>\n",
       "      <td>1.002872</td>\n",
       "      <td>-0.062957</td>\n",
       "      <td>0.010801</td>\n",
       "      <td>-0.985141</td>\n",
       "      <td>-0.723680</td>\n",
       "      <td>1.043376</td>\n",
       "      <td>0.299846</td>\n",
       "      <td>0.215169</td>\n",
       "      <td>0.266413</td>\n",
       "      <td>0.877935</td>\n",
       "      <td>...</td>\n",
       "      <td>0.652075</td>\n",
       "      <td>0.282545</td>\n",
       "      <td>0.370795</td>\n",
       "      <td>-0.104657</td>\n",
       "      <td>-0.293403</td>\n",
       "      <td>-0.426552</td>\n",
       "      <td>-1.110090</td>\n",
       "      <td>0.050159</td>\n",
       "      <td>-0.157514</td>\n",
       "      <td>-0.301919</td>\n",
       "    </tr>\n",
       "    <tr>\n",
       "      <th>2</th>\n",
       "      <td>-1.506590</td>\n",
       "      <td>1.143591</td>\n",
       "      <td>-0.165192</td>\n",
       "      <td>-0.684362</td>\n",
       "      <td>-1.049930</td>\n",
       "      <td>0.370427</td>\n",
       "      <td>-0.569559</td>\n",
       "      <td>0.138130</td>\n",
       "      <td>1.103403</td>\n",
       "      <td>-0.131314</td>\n",
       "      <td>...</td>\n",
       "      <td>-0.107340</td>\n",
       "      <td>0.238412</td>\n",
       "      <td>-0.018143</td>\n",
       "      <td>0.429791</td>\n",
       "      <td>0.378691</td>\n",
       "      <td>-0.372472</td>\n",
       "      <td>-0.145410</td>\n",
       "      <td>-0.123820</td>\n",
       "      <td>0.072769</td>\n",
       "      <td>-0.182955</td>\n",
       "    </tr>\n",
       "    <tr>\n",
       "      <th>3</th>\n",
       "      <td>0.865969</td>\n",
       "      <td>-0.362922</td>\n",
       "      <td>0.228870</td>\n",
       "      <td>1.010735</td>\n",
       "      <td>-1.084903</td>\n",
       "      <td>0.737313</td>\n",
       "      <td>-0.778146</td>\n",
       "      <td>-0.378786</td>\n",
       "      <td>-0.661478</td>\n",
       "      <td>0.548134</td>\n",
       "      <td>...</td>\n",
       "      <td>0.695615</td>\n",
       "      <td>0.725621</td>\n",
       "      <td>-0.097320</td>\n",
       "      <td>-0.234402</td>\n",
       "      <td>-0.012764</td>\n",
       "      <td>0.636815</td>\n",
       "      <td>-0.419389</td>\n",
       "      <td>0.165917</td>\n",
       "      <td>0.495530</td>\n",
       "      <td>-0.375941</td>\n",
       "    </tr>\n",
       "    <tr>\n",
       "      <th>4</th>\n",
       "      <td>-1.069311</td>\n",
       "      <td>-0.135315</td>\n",
       "      <td>-0.214523</td>\n",
       "      <td>0.279184</td>\n",
       "      <td>0.055769</td>\n",
       "      <td>1.178672</td>\n",
       "      <td>-0.785549</td>\n",
       "      <td>0.235979</td>\n",
       "      <td>0.710571</td>\n",
       "      <td>0.178235</td>\n",
       "      <td>...</td>\n",
       "      <td>-0.066125</td>\n",
       "      <td>0.169865</td>\n",
       "      <td>-0.295218</td>\n",
       "      <td>0.539715</td>\n",
       "      <td>0.054092</td>\n",
       "      <td>0.155813</td>\n",
       "      <td>-0.224051</td>\n",
       "      <td>0.080069</td>\n",
       "      <td>0.265156</td>\n",
       "      <td>-0.078646</td>\n",
       "    </tr>\n",
       "  </tbody>\n",
       "</table>\n",
       "<p>5 rows × 39 columns</p>\n",
       "</div>"
      ],
      "text/plain": [
       "        PC1       PC2       PC3       PC4       PC5       PC6       PC7   \n",
       "0  1.245292 -0.175921  0.531733 -0.520663 -0.107671 -0.745400 -0.207665  \\\n",
       "1  1.002872 -0.062957  0.010801 -0.985141 -0.723680  1.043376  0.299846   \n",
       "2 -1.506590  1.143591 -0.165192 -0.684362 -1.049930  0.370427 -0.569559   \n",
       "3  0.865969 -0.362922  0.228870  1.010735 -1.084903  0.737313 -0.778146   \n",
       "4 -1.069311 -0.135315 -0.214523  0.279184  0.055769  1.178672 -0.785549   \n",
       "\n",
       "        PC8       PC9      PC10  ...      PC30      PC31      PC32      PC33   \n",
       "0 -0.473115  0.683213  0.334975  ...  0.450597  0.461784  0.332575 -0.650296  \\\n",
       "1  0.215169  0.266413  0.877935  ...  0.652075  0.282545  0.370795 -0.104657   \n",
       "2  0.138130  1.103403 -0.131314  ... -0.107340  0.238412 -0.018143  0.429791   \n",
       "3 -0.378786 -0.661478  0.548134  ...  0.695615  0.725621 -0.097320 -0.234402   \n",
       "4  0.235979  0.710571  0.178235  ... -0.066125  0.169865 -0.295218  0.539715   \n",
       "\n",
       "       PC34      PC35      PC36      PC37      PC38      PC39  \n",
       "0 -0.117818  0.093831 -0.038031  0.063346 -0.145054 -0.229098  \n",
       "1 -0.293403 -0.426552 -1.110090  0.050159 -0.157514 -0.301919  \n",
       "2  0.378691 -0.372472 -0.145410 -0.123820  0.072769 -0.182955  \n",
       "3 -0.012764  0.636815 -0.419389  0.165917  0.495530 -0.375941  \n",
       "4  0.054092  0.155813 -0.224051  0.080069  0.265156 -0.078646  \n",
       "\n",
       "[5 rows x 39 columns]"
      ]
     },
     "execution_count": 17,
     "metadata": {},
     "output_type": "execute_result"
    }
   ],
   "source": [
    "scores_pca['PC'].head()"
   ]
  },
  {
   "cell_type": "code",
   "execution_count": 18,
   "metadata": {},
   "outputs": [
    {
     "data": {
      "text/html": [
       "<div>\n",
       "<style scoped>\n",
       "    .dataframe tbody tr th:only-of-type {\n",
       "        vertical-align: middle;\n",
       "    }\n",
       "\n",
       "    .dataframe tbody tr th {\n",
       "        vertical-align: top;\n",
       "    }\n",
       "\n",
       "    .dataframe thead th {\n",
       "        text-align: right;\n",
       "    }\n",
       "</style>\n",
       "<table border=\"1\" class=\"dataframe\">\n",
       "  <thead>\n",
       "    <tr style=\"text-align: right;\">\n",
       "      <th></th>\n",
       "      <th>1</th>\n",
       "      <th>2</th>\n",
       "      <th>3</th>\n",
       "      <th>4</th>\n",
       "      <th>5</th>\n",
       "      <th>6</th>\n",
       "      <th>7</th>\n",
       "      <th>8</th>\n",
       "      <th>9</th>\n",
       "      <th>10</th>\n",
       "      <th>...</th>\n",
       "      <th>24</th>\n",
       "      <th>25</th>\n",
       "      <th>26</th>\n",
       "      <th>27</th>\n",
       "      <th>28</th>\n",
       "      <th>29</th>\n",
       "      <th>30</th>\n",
       "      <th>31</th>\n",
       "      <th>32</th>\n",
       "      <th>33</th>\n",
       "    </tr>\n",
       "  </thead>\n",
       "  <tbody>\n",
       "    <tr>\n",
       "      <th>PC1</th>\n",
       "      <td>-0.010039</td>\n",
       "      <td>0.004668</td>\n",
       "      <td>-0.003729</td>\n",
       "      <td>-0.262673</td>\n",
       "      <td>0.039627</td>\n",
       "      <td>1.886140e-19</td>\n",
       "      <td>-0.054366</td>\n",
       "      <td>-0.089015</td>\n",
       "      <td>-0.065943</td>\n",
       "      <td>0.021652</td>\n",
       "      <td>...</td>\n",
       "      <td>-0.007274</td>\n",
       "      <td>-0.000242</td>\n",
       "      <td>0.007499</td>\n",
       "      <td>0.193516</td>\n",
       "      <td>0.025682</td>\n",
       "      <td>-0.201172</td>\n",
       "      <td>-0.025525</td>\n",
       "      <td>0.001255</td>\n",
       "      <td>-0.043572</td>\n",
       "      <td>-0.016707</td>\n",
       "    </tr>\n",
       "    <tr>\n",
       "      <th>PC2</th>\n",
       "      <td>0.025646</td>\n",
       "      <td>-0.251006</td>\n",
       "      <td>-0.305789</td>\n",
       "      <td>0.130739</td>\n",
       "      <td>0.270066</td>\n",
       "      <td>-5.232855e-19</td>\n",
       "      <td>0.010704</td>\n",
       "      <td>0.025612</td>\n",
       "      <td>0.015039</td>\n",
       "      <td>-0.000887</td>\n",
       "      <td>...</td>\n",
       "      <td>0.011094</td>\n",
       "      <td>0.000329</td>\n",
       "      <td>-0.005837</td>\n",
       "      <td>-0.039589</td>\n",
       "      <td>-0.023333</td>\n",
       "      <td>0.057804</td>\n",
       "      <td>0.010953</td>\n",
       "      <td>-0.006476</td>\n",
       "      <td>-0.067592</td>\n",
       "      <td>0.026166</td>\n",
       "    </tr>\n",
       "    <tr>\n",
       "      <th>PC3</th>\n",
       "      <td>-0.036530</td>\n",
       "      <td>0.051933</td>\n",
       "      <td>0.054185</td>\n",
       "      <td>-0.066957</td>\n",
       "      <td>0.017443</td>\n",
       "      <td>-2.433438e-19</td>\n",
       "      <td>-0.110390</td>\n",
       "      <td>-0.110239</td>\n",
       "      <td>-0.044224</td>\n",
       "      <td>0.073195</td>\n",
       "      <td>...</td>\n",
       "      <td>0.014825</td>\n",
       "      <td>0.000987</td>\n",
       "      <td>-0.003866</td>\n",
       "      <td>-0.146709</td>\n",
       "      <td>-0.047037</td>\n",
       "      <td>0.180918</td>\n",
       "      <td>0.016694</td>\n",
       "      <td>-0.007989</td>\n",
       "      <td>-0.200353</td>\n",
       "      <td>0.110728</td>\n",
       "    </tr>\n",
       "    <tr>\n",
       "      <th>PC4</th>\n",
       "      <td>0.006433</td>\n",
       "      <td>-0.044044</td>\n",
       "      <td>-0.043374</td>\n",
       "      <td>-0.070597</td>\n",
       "      <td>-0.016445</td>\n",
       "      <td>-4.373841e-18</td>\n",
       "      <td>0.039153</td>\n",
       "      <td>0.006207</td>\n",
       "      <td>-0.036367</td>\n",
       "      <td>-0.049832</td>\n",
       "      <td>...</td>\n",
       "      <td>0.021929</td>\n",
       "      <td>0.001035</td>\n",
       "      <td>0.007673</td>\n",
       "      <td>0.183226</td>\n",
       "      <td>-0.347223</td>\n",
       "      <td>0.136260</td>\n",
       "      <td>0.020064</td>\n",
       "      <td>0.029354</td>\n",
       "      <td>0.239543</td>\n",
       "      <td>-0.495345</td>\n",
       "    </tr>\n",
       "    <tr>\n",
       "      <th>PC5</th>\n",
       "      <td>-0.002333</td>\n",
       "      <td>0.057326</td>\n",
       "      <td>0.071968</td>\n",
       "      <td>-0.103302</td>\n",
       "      <td>0.003143</td>\n",
       "      <td>9.890767e-18</td>\n",
       "      <td>0.011604</td>\n",
       "      <td>-0.062451</td>\n",
       "      <td>-0.065191</td>\n",
       "      <td>-0.026749</td>\n",
       "      <td>...</td>\n",
       "      <td>-0.011821</td>\n",
       "      <td>-0.000534</td>\n",
       "      <td>-0.002708</td>\n",
       "      <td>-0.073728</td>\n",
       "      <td>0.213864</td>\n",
       "      <td>-0.124878</td>\n",
       "      <td>-0.012550</td>\n",
       "      <td>0.001252</td>\n",
       "      <td>0.396324</td>\n",
       "      <td>-0.192241</td>\n",
       "    </tr>\n",
       "    <tr>\n",
       "      <th>PC6</th>\n",
       "      <td>-0.001888</td>\n",
       "      <td>-0.444385</td>\n",
       "      <td>-0.450603</td>\n",
       "      <td>-0.034463</td>\n",
       "      <td>0.029059</td>\n",
       "      <td>-2.886596e-17</td>\n",
       "      <td>-0.002539</td>\n",
       "      <td>-0.063366</td>\n",
       "      <td>-0.065017</td>\n",
       "      <td>0.043013</td>\n",
       "      <td>...</td>\n",
       "      <td>-0.001818</td>\n",
       "      <td>-0.000484</td>\n",
       "      <td>-0.006008</td>\n",
       "      <td>-0.202212</td>\n",
       "      <td>0.265752</td>\n",
       "      <td>-0.049621</td>\n",
       "      <td>-0.007911</td>\n",
       "      <td>-0.000323</td>\n",
       "      <td>0.287686</td>\n",
       "      <td>-0.198284</td>\n",
       "    </tr>\n",
       "    <tr>\n",
       "      <th>PC7</th>\n",
       "      <td>0.007103</td>\n",
       "      <td>0.187141</td>\n",
       "      <td>0.174537</td>\n",
       "      <td>0.199929</td>\n",
       "      <td>0.004315</td>\n",
       "      <td>-9.697171e-18</td>\n",
       "      <td>-0.012995</td>\n",
       "      <td>0.068675</td>\n",
       "      <td>0.142033</td>\n",
       "      <td>0.113651</td>\n",
       "      <td>...</td>\n",
       "      <td>0.011736</td>\n",
       "      <td>0.000530</td>\n",
       "      <td>-0.007474</td>\n",
       "      <td>-0.301351</td>\n",
       "      <td>0.442009</td>\n",
       "      <td>-0.133436</td>\n",
       "      <td>0.000252</td>\n",
       "      <td>0.000178</td>\n",
       "      <td>0.098338</td>\n",
       "      <td>-0.268626</td>\n",
       "    </tr>\n",
       "    <tr>\n",
       "      <th>PC8</th>\n",
       "      <td>-0.003484</td>\n",
       "      <td>0.147602</td>\n",
       "      <td>0.161248</td>\n",
       "      <td>-0.157130</td>\n",
       "      <td>0.079877</td>\n",
       "      <td>7.252191e-18</td>\n",
       "      <td>-0.011027</td>\n",
       "      <td>-0.074047</td>\n",
       "      <td>-0.125803</td>\n",
       "      <td>0.012555</td>\n",
       "      <td>...</td>\n",
       "      <td>-0.003499</td>\n",
       "      <td>0.000198</td>\n",
       "      <td>-0.001248</td>\n",
       "      <td>-0.098340</td>\n",
       "      <td>0.073103</td>\n",
       "      <td>0.027190</td>\n",
       "      <td>-0.000706</td>\n",
       "      <td>-0.005577</td>\n",
       "      <td>0.169072</td>\n",
       "      <td>-0.140831</td>\n",
       "    </tr>\n",
       "    <tr>\n",
       "      <th>PC9</th>\n",
       "      <td>0.005508</td>\n",
       "      <td>-0.053729</td>\n",
       "      <td>-0.052010</td>\n",
       "      <td>0.169090</td>\n",
       "      <td>0.073510</td>\n",
       "      <td>1.112748e-17</td>\n",
       "      <td>-0.015035</td>\n",
       "      <td>0.010321</td>\n",
       "      <td>0.089787</td>\n",
       "      <td>0.102184</td>\n",
       "      <td>...</td>\n",
       "      <td>-0.003261</td>\n",
       "      <td>0.000447</td>\n",
       "      <td>-0.001921</td>\n",
       "      <td>0.216923</td>\n",
       "      <td>-0.422375</td>\n",
       "      <td>0.204424</td>\n",
       "      <td>0.002949</td>\n",
       "      <td>-0.010347</td>\n",
       "      <td>0.236038</td>\n",
       "      <td>0.005582</td>\n",
       "    </tr>\n",
       "    <tr>\n",
       "      <th>PC10</th>\n",
       "      <td>-0.002987</td>\n",
       "      <td>-0.239535</td>\n",
       "      <td>-0.240845</td>\n",
       "      <td>-0.025978</td>\n",
       "      <td>-0.042342</td>\n",
       "      <td>4.099227e-17</td>\n",
       "      <td>-0.014716</td>\n",
       "      <td>-0.008585</td>\n",
       "      <td>0.038199</td>\n",
       "      <td>0.052235</td>\n",
       "      <td>...</td>\n",
       "      <td>0.000841</td>\n",
       "      <td>-0.000279</td>\n",
       "      <td>0.004824</td>\n",
       "      <td>0.023419</td>\n",
       "      <td>0.050998</td>\n",
       "      <td>-0.076026</td>\n",
       "      <td>-0.003215</td>\n",
       "      <td>0.005917</td>\n",
       "      <td>-0.252313</td>\n",
       "      <td>0.113161</td>\n",
       "    </tr>\n",
       "    <tr>\n",
       "      <th>PC11</th>\n",
       "      <td>-0.002845</td>\n",
       "      <td>-0.090478</td>\n",
       "      <td>-0.090669</td>\n",
       "      <td>-0.074176</td>\n",
       "      <td>0.007904</td>\n",
       "      <td>3.646779e-17</td>\n",
       "      <td>-0.005323</td>\n",
       "      <td>-0.007760</td>\n",
       "      <td>-0.030554</td>\n",
       "      <td>-0.036599</td>\n",
       "      <td>...</td>\n",
       "      <td>-0.004348</td>\n",
       "      <td>-0.000606</td>\n",
       "      <td>0.002852</td>\n",
       "      <td>-0.042442</td>\n",
       "      <td>0.119481</td>\n",
       "      <td>-0.076830</td>\n",
       "      <td>-0.003061</td>\n",
       "      <td>0.006490</td>\n",
       "      <td>-0.096074</td>\n",
       "      <td>-0.002713</td>\n",
       "    </tr>\n",
       "    <tr>\n",
       "      <th>PC12</th>\n",
       "      <td>-0.001092</td>\n",
       "      <td>0.117071</td>\n",
       "      <td>0.095872</td>\n",
       "      <td>-0.023497</td>\n",
       "      <td>-0.152583</td>\n",
       "      <td>7.671750e-18</td>\n",
       "      <td>0.014346</td>\n",
       "      <td>-0.008499</td>\n",
       "      <td>-0.007578</td>\n",
       "      <td>0.006260</td>\n",
       "      <td>...</td>\n",
       "      <td>0.001912</td>\n",
       "      <td>0.000474</td>\n",
       "      <td>-0.000699</td>\n",
       "      <td>-0.016084</td>\n",
       "      <td>-0.085488</td>\n",
       "      <td>0.100894</td>\n",
       "      <td>0.001377</td>\n",
       "      <td>0.001128</td>\n",
       "      <td>0.080457</td>\n",
       "      <td>-0.014822</td>\n",
       "    </tr>\n",
       "    <tr>\n",
       "      <th>PC13</th>\n",
       "      <td>0.006524</td>\n",
       "      <td>-0.137171</td>\n",
       "      <td>-0.136224</td>\n",
       "      <td>-0.115683</td>\n",
       "      <td>-0.098323</td>\n",
       "      <td>-2.135041e-17</td>\n",
       "      <td>0.089893</td>\n",
       "      <td>0.092181</td>\n",
       "      <td>-0.054519</td>\n",
       "      <td>-0.181020</td>\n",
       "      <td>...</td>\n",
       "      <td>-0.000341</td>\n",
       "      <td>0.000323</td>\n",
       "      <td>-0.001810</td>\n",
       "      <td>-0.109487</td>\n",
       "      <td>0.046539</td>\n",
       "      <td>0.059622</td>\n",
       "      <td>0.005136</td>\n",
       "      <td>0.006525</td>\n",
       "      <td>-0.046176</td>\n",
       "      <td>0.084001</td>\n",
       "    </tr>\n",
       "    <tr>\n",
       "      <th>PC14</th>\n",
       "      <td>0.002750</td>\n",
       "      <td>-0.057163</td>\n",
       "      <td>-0.062948</td>\n",
       "      <td>-0.125407</td>\n",
       "      <td>0.103462</td>\n",
       "      <td>-1.920841e-17</td>\n",
       "      <td>-0.008952</td>\n",
       "      <td>-0.018155</td>\n",
       "      <td>-0.035460</td>\n",
       "      <td>-0.005158</td>\n",
       "      <td>...</td>\n",
       "      <td>0.003400</td>\n",
       "      <td>0.000189</td>\n",
       "      <td>-0.002870</td>\n",
       "      <td>0.026829</td>\n",
       "      <td>-0.062540</td>\n",
       "      <td>0.040557</td>\n",
       "      <td>-0.001976</td>\n",
       "      <td>0.002257</td>\n",
       "      <td>0.050798</td>\n",
       "      <td>0.020601</td>\n",
       "    </tr>\n",
       "  </tbody>\n",
       "</table>\n",
       "<p>14 rows × 33 columns</p>\n",
       "</div>"
      ],
      "text/plain": [
       "             1         2         3         4         5             6   \n",
       "PC1  -0.010039  0.004668 -0.003729 -0.262673  0.039627  1.886140e-19  \\\n",
       "PC2   0.025646 -0.251006 -0.305789  0.130739  0.270066 -5.232855e-19   \n",
       "PC3  -0.036530  0.051933  0.054185 -0.066957  0.017443 -2.433438e-19   \n",
       "PC4   0.006433 -0.044044 -0.043374 -0.070597 -0.016445 -4.373841e-18   \n",
       "PC5  -0.002333  0.057326  0.071968 -0.103302  0.003143  9.890767e-18   \n",
       "PC6  -0.001888 -0.444385 -0.450603 -0.034463  0.029059 -2.886596e-17   \n",
       "PC7   0.007103  0.187141  0.174537  0.199929  0.004315 -9.697171e-18   \n",
       "PC8  -0.003484  0.147602  0.161248 -0.157130  0.079877  7.252191e-18   \n",
       "PC9   0.005508 -0.053729 -0.052010  0.169090  0.073510  1.112748e-17   \n",
       "PC10 -0.002987 -0.239535 -0.240845 -0.025978 -0.042342  4.099227e-17   \n",
       "PC11 -0.002845 -0.090478 -0.090669 -0.074176  0.007904  3.646779e-17   \n",
       "PC12 -0.001092  0.117071  0.095872 -0.023497 -0.152583  7.671750e-18   \n",
       "PC13  0.006524 -0.137171 -0.136224 -0.115683 -0.098323 -2.135041e-17   \n",
       "PC14  0.002750 -0.057163 -0.062948 -0.125407  0.103462 -1.920841e-17   \n",
       "\n",
       "             7         8         9        10  ...        24        25   \n",
       "PC1  -0.054366 -0.089015 -0.065943  0.021652  ... -0.007274 -0.000242  \\\n",
       "PC2   0.010704  0.025612  0.015039 -0.000887  ...  0.011094  0.000329   \n",
       "PC3  -0.110390 -0.110239 -0.044224  0.073195  ...  0.014825  0.000987   \n",
       "PC4   0.039153  0.006207 -0.036367 -0.049832  ...  0.021929  0.001035   \n",
       "PC5   0.011604 -0.062451 -0.065191 -0.026749  ... -0.011821 -0.000534   \n",
       "PC6  -0.002539 -0.063366 -0.065017  0.043013  ... -0.001818 -0.000484   \n",
       "PC7  -0.012995  0.068675  0.142033  0.113651  ...  0.011736  0.000530   \n",
       "PC8  -0.011027 -0.074047 -0.125803  0.012555  ... -0.003499  0.000198   \n",
       "PC9  -0.015035  0.010321  0.089787  0.102184  ... -0.003261  0.000447   \n",
       "PC10 -0.014716 -0.008585  0.038199  0.052235  ...  0.000841 -0.000279   \n",
       "PC11 -0.005323 -0.007760 -0.030554 -0.036599  ... -0.004348 -0.000606   \n",
       "PC12  0.014346 -0.008499 -0.007578  0.006260  ...  0.001912  0.000474   \n",
       "PC13  0.089893  0.092181 -0.054519 -0.181020  ... -0.000341  0.000323   \n",
       "PC14 -0.008952 -0.018155 -0.035460 -0.005158  ...  0.003400  0.000189   \n",
       "\n",
       "            26        27        28        29        30        31        32   \n",
       "PC1   0.007499  0.193516  0.025682 -0.201172 -0.025525  0.001255 -0.043572  \\\n",
       "PC2  -0.005837 -0.039589 -0.023333  0.057804  0.010953 -0.006476 -0.067592   \n",
       "PC3  -0.003866 -0.146709 -0.047037  0.180918  0.016694 -0.007989 -0.200353   \n",
       "PC4   0.007673  0.183226 -0.347223  0.136260  0.020064  0.029354  0.239543   \n",
       "PC5  -0.002708 -0.073728  0.213864 -0.124878 -0.012550  0.001252  0.396324   \n",
       "PC6  -0.006008 -0.202212  0.265752 -0.049621 -0.007911 -0.000323  0.287686   \n",
       "PC7  -0.007474 -0.301351  0.442009 -0.133436  0.000252  0.000178  0.098338   \n",
       "PC8  -0.001248 -0.098340  0.073103  0.027190 -0.000706 -0.005577  0.169072   \n",
       "PC9  -0.001921  0.216923 -0.422375  0.204424  0.002949 -0.010347  0.236038   \n",
       "PC10  0.004824  0.023419  0.050998 -0.076026 -0.003215  0.005917 -0.252313   \n",
       "PC11  0.002852 -0.042442  0.119481 -0.076830 -0.003061  0.006490 -0.096074   \n",
       "PC12 -0.000699 -0.016084 -0.085488  0.100894  0.001377  0.001128  0.080457   \n",
       "PC13 -0.001810 -0.109487  0.046539  0.059622  0.005136  0.006525 -0.046176   \n",
       "PC14 -0.002870  0.026829 -0.062540  0.040557 -0.001976  0.002257  0.050798   \n",
       "\n",
       "            33  \n",
       "PC1  -0.016707  \n",
       "PC2   0.026166  \n",
       "PC3   0.110728  \n",
       "PC4  -0.495345  \n",
       "PC5  -0.192241  \n",
       "PC6  -0.198284  \n",
       "PC7  -0.268626  \n",
       "PC8  -0.140831  \n",
       "PC9   0.005582  \n",
       "PC10  0.113161  \n",
       "PC11 -0.002713  \n",
       "PC12 -0.014822  \n",
       "PC13  0.084001  \n",
       "PC14  0.020601  \n",
       "\n",
       "[14 rows x 33 columns]"
      ]
     },
     "execution_count": 18,
     "metadata": {},
     "output_type": "execute_result"
    }
   ],
   "source": [
    "scores_pca['loadings'].iloc[0:14,0:33]"
   ]
  },
  {
   "cell_type": "code",
   "execution_count": 20,
   "metadata": {},
   "outputs": [
    {
     "data": {
      "text/html": [
       "<div>\n",
       "<style scoped>\n",
       "    .dataframe tbody tr th:only-of-type {\n",
       "        vertical-align: middle;\n",
       "    }\n",
       "\n",
       "    .dataframe tbody tr th {\n",
       "        vertical-align: top;\n",
       "    }\n",
       "\n",
       "    .dataframe thead th {\n",
       "        text-align: right;\n",
       "    }\n",
       "</style>\n",
       "<table border=\"1\" class=\"dataframe\">\n",
       "  <thead>\n",
       "    <tr style=\"text-align: right;\">\n",
       "      <th></th>\n",
       "      <th>PC1</th>\n",
       "      <th>PC2</th>\n",
       "      <th>PC3</th>\n",
       "      <th>PC4</th>\n",
       "      <th>PC5</th>\n",
       "      <th>PC6</th>\n",
       "      <th>PC7</th>\n",
       "      <th>PC8</th>\n",
       "      <th>PC9</th>\n",
       "      <th>PC10</th>\n",
       "      <th>...</th>\n",
       "      <th>PC30</th>\n",
       "      <th>PC31</th>\n",
       "      <th>PC32</th>\n",
       "      <th>PC33</th>\n",
       "      <th>PC34</th>\n",
       "      <th>PC35</th>\n",
       "      <th>PC36</th>\n",
       "      <th>PC37</th>\n",
       "      <th>PC38</th>\n",
       "      <th>PC39</th>\n",
       "    </tr>\n",
       "  </thead>\n",
       "  <tbody>\n",
       "    <tr>\n",
       "      <th>0</th>\n",
       "      <td>1.245292</td>\n",
       "      <td>-0.175921</td>\n",
       "      <td>0.531733</td>\n",
       "      <td>-0.520663</td>\n",
       "      <td>-0.107671</td>\n",
       "      <td>-0.745400</td>\n",
       "      <td>-0.207665</td>\n",
       "      <td>-0.473115</td>\n",
       "      <td>0.683213</td>\n",
       "      <td>0.334975</td>\n",
       "      <td>...</td>\n",
       "      <td>0.450597</td>\n",
       "      <td>0.461784</td>\n",
       "      <td>0.332575</td>\n",
       "      <td>-0.650296</td>\n",
       "      <td>-0.117818</td>\n",
       "      <td>0.093831</td>\n",
       "      <td>-0.038031</td>\n",
       "      <td>0.063346</td>\n",
       "      <td>-0.145054</td>\n",
       "      <td>-0.229098</td>\n",
       "    </tr>\n",
       "    <tr>\n",
       "      <th>1</th>\n",
       "      <td>1.002872</td>\n",
       "      <td>-0.062957</td>\n",
       "      <td>0.010801</td>\n",
       "      <td>-0.985141</td>\n",
       "      <td>-0.723680</td>\n",
       "      <td>1.043376</td>\n",
       "      <td>0.299846</td>\n",
       "      <td>0.215169</td>\n",
       "      <td>0.266413</td>\n",
       "      <td>0.877935</td>\n",
       "      <td>...</td>\n",
       "      <td>0.652075</td>\n",
       "      <td>0.282545</td>\n",
       "      <td>0.370795</td>\n",
       "      <td>-0.104657</td>\n",
       "      <td>-0.293403</td>\n",
       "      <td>-0.426552</td>\n",
       "      <td>-1.110090</td>\n",
       "      <td>0.050159</td>\n",
       "      <td>-0.157514</td>\n",
       "      <td>-0.301919</td>\n",
       "    </tr>\n",
       "    <tr>\n",
       "      <th>2</th>\n",
       "      <td>-1.506590</td>\n",
       "      <td>1.143591</td>\n",
       "      <td>-0.165192</td>\n",
       "      <td>-0.684362</td>\n",
       "      <td>-1.049930</td>\n",
       "      <td>0.370427</td>\n",
       "      <td>-0.569559</td>\n",
       "      <td>0.138130</td>\n",
       "      <td>1.103403</td>\n",
       "      <td>-0.131314</td>\n",
       "      <td>...</td>\n",
       "      <td>-0.107340</td>\n",
       "      <td>0.238412</td>\n",
       "      <td>-0.018143</td>\n",
       "      <td>0.429791</td>\n",
       "      <td>0.378691</td>\n",
       "      <td>-0.372472</td>\n",
       "      <td>-0.145410</td>\n",
       "      <td>-0.123820</td>\n",
       "      <td>0.072769</td>\n",
       "      <td>-0.182955</td>\n",
       "    </tr>\n",
       "    <tr>\n",
       "      <th>3</th>\n",
       "      <td>0.865969</td>\n",
       "      <td>-0.362922</td>\n",
       "      <td>0.228870</td>\n",
       "      <td>1.010735</td>\n",
       "      <td>-1.084903</td>\n",
       "      <td>0.737313</td>\n",
       "      <td>-0.778146</td>\n",
       "      <td>-0.378786</td>\n",
       "      <td>-0.661478</td>\n",
       "      <td>0.548134</td>\n",
       "      <td>...</td>\n",
       "      <td>0.695615</td>\n",
       "      <td>0.725621</td>\n",
       "      <td>-0.097320</td>\n",
       "      <td>-0.234402</td>\n",
       "      <td>-0.012764</td>\n",
       "      <td>0.636815</td>\n",
       "      <td>-0.419389</td>\n",
       "      <td>0.165917</td>\n",
       "      <td>0.495530</td>\n",
       "      <td>-0.375941</td>\n",
       "    </tr>\n",
       "    <tr>\n",
       "      <th>4</th>\n",
       "      <td>-1.069311</td>\n",
       "      <td>-0.135315</td>\n",
       "      <td>-0.214523</td>\n",
       "      <td>0.279184</td>\n",
       "      <td>0.055769</td>\n",
       "      <td>1.178672</td>\n",
       "      <td>-0.785549</td>\n",
       "      <td>0.235979</td>\n",
       "      <td>0.710571</td>\n",
       "      <td>0.178235</td>\n",
       "      <td>...</td>\n",
       "      <td>-0.066125</td>\n",
       "      <td>0.169865</td>\n",
       "      <td>-0.295218</td>\n",
       "      <td>0.539715</td>\n",
       "      <td>0.054092</td>\n",
       "      <td>0.155813</td>\n",
       "      <td>-0.224051</td>\n",
       "      <td>0.080069</td>\n",
       "      <td>0.265156</td>\n",
       "      <td>-0.078646</td>\n",
       "    </tr>\n",
       "  </tbody>\n",
       "</table>\n",
       "<p>5 rows × 39 columns</p>\n",
       "</div>"
      ],
      "text/plain": [
       "        PC1       PC2       PC3       PC4       PC5       PC6       PC7   \n",
       "0  1.245292 -0.175921  0.531733 -0.520663 -0.107671 -0.745400 -0.207665  \\\n",
       "1  1.002872 -0.062957  0.010801 -0.985141 -0.723680  1.043376  0.299846   \n",
       "2 -1.506590  1.143591 -0.165192 -0.684362 -1.049930  0.370427 -0.569559   \n",
       "3  0.865969 -0.362922  0.228870  1.010735 -1.084903  0.737313 -0.778146   \n",
       "4 -1.069311 -0.135315 -0.214523  0.279184  0.055769  1.178672 -0.785549   \n",
       "\n",
       "        PC8       PC9      PC10  ...      PC30      PC31      PC32      PC33   \n",
       "0 -0.473115  0.683213  0.334975  ...  0.450597  0.461784  0.332575 -0.650296  \\\n",
       "1  0.215169  0.266413  0.877935  ...  0.652075  0.282545  0.370795 -0.104657   \n",
       "2  0.138130  1.103403 -0.131314  ... -0.107340  0.238412 -0.018143  0.429791   \n",
       "3 -0.378786 -0.661478  0.548134  ...  0.695615  0.725621 -0.097320 -0.234402   \n",
       "4  0.235979  0.710571  0.178235  ... -0.066125  0.169865 -0.295218  0.539715   \n",
       "\n",
       "       PC34      PC35      PC36      PC37      PC38      PC39  \n",
       "0 -0.117818  0.093831 -0.038031  0.063346 -0.145054 -0.229098  \n",
       "1 -0.293403 -0.426552 -1.110090  0.050159 -0.157514 -0.301919  \n",
       "2  0.378691 -0.372472 -0.145410 -0.123820  0.072769 -0.182955  \n",
       "3 -0.012764  0.636815 -0.419389  0.165917  0.495530 -0.375941  \n",
       "4  0.054092  0.155813 -0.224051  0.080069  0.265156 -0.078646  \n",
       "\n",
       "[5 rows x 39 columns]"
      ]
     },
     "execution_count": 20,
     "metadata": {},
     "output_type": "execute_result"
    }
   ],
   "source": [
    "scores_pca['PC'].head()"
   ]
  },
  {
   "attachments": {},
   "cell_type": "markdown",
   "metadata": {},
   "source": [
    "# Features\n",
    "Features mais importantes e obtenção da taxa de variabilidade explicada e seus respectivos coeficientes para cada componente. \n",
    "As features são listadas em ordem decrescente de importância, ou seja, aquelas com os maiores coeficientes têm maior influência na explicabilidade daquela componente.\n"
   ]
  },
  {
   "cell_type": "code",
   "execution_count": 19,
   "metadata": {},
   "outputs": [
    {
     "name": "stdout",
     "output_type": "stream",
     "text": [
      "       PC feature   loading  type\n",
      "0     PC1      46 -0.409780  best\n",
      "1     PC2       3 -0.305789  best\n",
      "2     PC3      46  0.325634  best\n",
      "3     PC4      22 -0.552171  best\n",
      "4     PC5      19 -0.422503  best\n",
      "..    ...     ...       ...   ...\n",
      "119  PC14     108  0.312596  weak\n",
      "120  PC39     109  0.113774  weak\n",
      "121  PC25     110  0.033709  weak\n",
      "122  PC28     111 -0.035878  weak\n",
      "123  PC23     113 -0.210840  weak\n",
      "\n",
      "[124 rows x 4 columns]\n"
     ]
    }
   ],
   "source": [
    "print(scores_pca['topfeat'])"
   ]
  },
  {
   "cell_type": "code",
   "execution_count": 27,
   "metadata": {},
   "outputs": [
    {
     "data": {
      "text/plain": [
       "array([0.06488273, 0.12617563, 0.16667725, 0.20006489, 0.23240818,\n",
       "       0.26278153, 0.2911761 , 0.3176701 , 0.34343837, 0.36839024,\n",
       "       0.39207119, 0.41474746, 0.43630971, 0.45718884, 0.47763118,\n",
       "       0.49714445, 0.51609225, 0.53394844, 0.55126078, 0.56823176,\n",
       "       0.58430879, 0.6000214 , 0.61560976, 0.63107973, 0.64569344,\n",
       "       0.66006345, 0.67340874, 0.68650201, 0.6989847 , 0.7112155 ,\n",
       "       0.72315955, 0.73446036, 0.74543376, 0.75617802, 0.76677147,\n",
       "       0.77701077, 0.78713865, 0.79713811, 0.80678989])"
      ]
     },
     "execution_count": 27,
     "metadata": {},
     "output_type": "execute_result"
    }
   ],
   "source": [
    "# Varaiação explicada cumulativa\n",
    "scores_pca['explained_var']"
   ]
  },
  {
   "attachments": {},
   "cell_type": "markdown",
   "metadata": {},
   "source": [
    "##### *Porcentagem de explicação de cada componente*\n",
    "\n",
    "Será obtido um array explained_variance que contém a taxa de variabilidade explicada por cada componente principal. Cada valor representa a contribuição percentual de um componente para a variância total dos dados.\n",
    "\n",
    "Essa informação é útil para identificar quais componentes principais explicam a maior parte da variância nos dados. "
   ]
  },
  {
   "cell_type": "code",
   "execution_count": 28,
   "metadata": {},
   "outputs": [
    {
     "name": "stdout",
     "output_type": "stream",
     "text": [
      "[6.48827261 6.12929021 4.05016178 3.33876458 3.23432931 3.03733487\n",
      " 2.83945619 2.64940005 2.57682721 2.49518721 2.36809486 2.26762737\n",
      " 2.15622515 2.0879124  2.04423459 1.95132694 1.89477922 1.7856192\n",
      " 1.73123448 1.69709814 1.60770311 1.57126085 1.55883568 1.54699718\n",
      " 1.4613711  1.43700051 1.33452965 1.3093269  1.24826849 1.22308052\n",
      " 1.19440423 1.13008185 1.09733912 1.07442608 1.05934576 1.0239294\n",
      " 1.01278839 0.99994554 0.96517788]\n"
     ]
    }
   ],
   "source": [
    "size = len(scores_pca['explained_var'])\n",
    "explained_variance = np.zeros(size)\n",
    "\n",
    "# Percorreremos do n-ésimo valor em 'explained_var' até o penúltimo realizando uma diferença entre o valor atual e o posterior.\n",
    "for i in range(size - 1, 0, -1):\n",
    "  explained_variance[i] = (scores_pca['explained_var'][i] - scores_pca['explained_var'][i - 1]) * 100\n",
    "\n",
    "explained_variance[0] = scores_pca['explained_var'][0] * 100\n",
    "print(explained_variance)"
   ]
  },
  {
   "cell_type": "code",
   "execution_count": 29,
   "metadata": {},
   "outputs": [
    {
     "data": {
      "text/plain": [
       "(<Figure size 1500x1000 with 1 Axes>,\n",
       " <Axes: title={'center': 'Cumulative explained variance\\n 39 Principal Components explain [80.67%] of the variance.'}, xlabel='Principle Component', ylabel='Percentage explained variance'>)"
      ]
     },
     "execution_count": 29,
     "metadata": {},
     "output_type": "execute_result"
    },
    {
     "data": {
      "image/png": "[encoded data removed]",
      "text/plain": [
       "<Figure size 1500x1000 with 1 Axes>"
      ]
     },
     "metadata": {},
     "output_type": "display_data"
    }
   ],
   "source": [
    "model.plot()"
   ]
  },
  {
   "attachments": {},
   "cell_type": "markdown",
   "metadata": {},
   "source": [
    "## Clusterização de Dados\n",
    "\n",
    "A clusterização é uma técnica de aprendizado não supervisionado usada para agrupar dados em diferentes grupos, com base em sua similaridade.\n",
    "\n",
    "Ao aplicar a clusterização, o algoritmo identifica padrões e estruturas nos dados, agrupando pontos de dados semelhantes e separando pontos de dados diferentes.\n"
   ]
  },
  {
   "cell_type": "code",
   "execution_count": 30,
   "metadata": {},
   "outputs": [],
   "source": [
    "#Pacotes e bibliotecas necessárias\n",
    "from sklearn.cluster import KMeans\n",
    "from sklearn.metrics import silhouette_score, silhouette_samples\n",
    "import matplotlib.cm as cm"
   ]
  },
  {
   "attachments": {},
   "cell_type": "markdown",
   "metadata": {},
   "source": [
    "## Método do Cotovelo para Clusterização\n",
    "\n",
    "O método do cotovelo é uma técnica comumente usada para determinar o número ideal de clusters em algoritmos de clusterização.\n",
    "Indentificando o ponto de inflexão (cotovelo) no gráfico da soma das distâncias quadráticas intra-cluster em relação ao número de clusters. Esse ponto sugere o número de clusters onde a adição de mais clusters não fornece uma melhora significativa na variação explicada."
   ]
  },
  {
   "cell_type": "code",
   "execution_count": 31,
   "metadata": {},
   "outputs": [
    {
     "name": "stderr",
     "output_type": "stream",
     "text": [
      "c:\\Users\\Ronaldo\\AppData\\Local\\Programs\\Python\\Python311\\Lib\\site-packages\\sklearn\\cluster\\_kmeans.py:870: FutureWarning:\n",
      "\n",
      "The default value of `n_init` will change from 10 to 'auto' in 1.4. Set the value of `n_init` explicitly to suppress the warning\n",
      "\n"
     ]
    },
    {
     "name": "stdout",
     "output_type": "stream",
     "text": [
      "Número de Clusters: 1, WCSS: 195496.1452790294\n"
     ]
    },
    {
     "name": "stderr",
     "output_type": "stream",
     "text": [
      "c:\\Users\\Ronaldo\\AppData\\Local\\Programs\\Python\\Python311\\Lib\\site-packages\\sklearn\\cluster\\_kmeans.py:870: FutureWarning:\n",
      "\n",
      "The default value of `n_init` will change from 10 to 'auto' in 1.4. Set the value of `n_init` explicitly to suppress the warning\n",
      "\n"
     ]
    },
    {
     "name": "stdout",
     "output_type": "stream",
     "text": [
      "Número de Clusters: 2, WCSS: 183193.70031001582\n"
     ]
    },
    {
     "name": "stderr",
     "output_type": "stream",
     "text": [
      "c:\\Users\\Ronaldo\\AppData\\Local\\Programs\\Python\\Python311\\Lib\\site-packages\\sklearn\\cluster\\_kmeans.py:870: FutureWarning:\n",
      "\n",
      "The default value of `n_init` will change from 10 to 'auto' in 1.4. Set the value of `n_init` explicitly to suppress the warning\n",
      "\n"
     ]
    },
    {
     "name": "stdout",
     "output_type": "stream",
     "text": [
      "Número de Clusters: 3, WCSS: 176688.60118392098\n"
     ]
    },
    {
     "name": "stderr",
     "output_type": "stream",
     "text": [
      "c:\\Users\\Ronaldo\\AppData\\Local\\Programs\\Python\\Python311\\Lib\\site-packages\\sklearn\\cluster\\_kmeans.py:870: FutureWarning:\n",
      "\n",
      "The default value of `n_init` will change from 10 to 'auto' in 1.4. Set the value of `n_init` explicitly to suppress the warning\n",
      "\n"
     ]
    },
    {
     "name": "stdout",
     "output_type": "stream",
     "text": [
      "Número de Clusters: 4, WCSS: 171661.16514651047\n"
     ]
    },
    {
     "name": "stderr",
     "output_type": "stream",
     "text": [
      "c:\\Users\\Ronaldo\\AppData\\Local\\Programs\\Python\\Python311\\Lib\\site-packages\\sklearn\\cluster\\_kmeans.py:870: FutureWarning:\n",
      "\n",
      "The default value of `n_init` will change from 10 to 'auto' in 1.4. Set the value of `n_init` explicitly to suppress the warning\n",
      "\n"
     ]
    },
    {
     "name": "stdout",
     "output_type": "stream",
     "text": [
      "Número de Clusters: 5, WCSS: 167715.354148684\n"
     ]
    },
    {
     "name": "stderr",
     "output_type": "stream",
     "text": [
      "c:\\Users\\Ronaldo\\AppData\\Local\\Programs\\Python\\Python311\\Lib\\site-packages\\sklearn\\cluster\\_kmeans.py:870: FutureWarning:\n",
      "\n",
      "The default value of `n_init` will change from 10 to 'auto' in 1.4. Set the value of `n_init` explicitly to suppress the warning\n",
      "\n"
     ]
    },
    {
     "name": "stdout",
     "output_type": "stream",
     "text": [
      "Número de Clusters: 6, WCSS: 165122.21075245403\n"
     ]
    },
    {
     "name": "stderr",
     "output_type": "stream",
     "text": [
      "c:\\Users\\Ronaldo\\AppData\\Local\\Programs\\Python\\Python311\\Lib\\site-packages\\sklearn\\cluster\\_kmeans.py:870: FutureWarning:\n",
      "\n",
      "The default value of `n_init` will change from 10 to 'auto' in 1.4. Set the value of `n_init` explicitly to suppress the warning\n",
      "\n"
     ]
    },
    {
     "name": "stdout",
     "output_type": "stream",
     "text": [
      "Número de Clusters: 7, WCSS: 162662.8673993973\n"
     ]
    },
    {
     "name": "stderr",
     "output_type": "stream",
     "text": [
      "c:\\Users\\Ronaldo\\AppData\\Local\\Programs\\Python\\Python311\\Lib\\site-packages\\sklearn\\cluster\\_kmeans.py:870: FutureWarning:\n",
      "\n",
      "The default value of `n_init` will change from 10 to 'auto' in 1.4. Set the value of `n_init` explicitly to suppress the warning\n",
      "\n"
     ]
    },
    {
     "name": "stdout",
     "output_type": "stream",
     "text": [
      "Número de Clusters: 8, WCSS: 160479.38323747556\n"
     ]
    },
    {
     "name": "stderr",
     "output_type": "stream",
     "text": [
      "c:\\Users\\Ronaldo\\AppData\\Local\\Programs\\Python\\Python311\\Lib\\site-packages\\sklearn\\cluster\\_kmeans.py:870: FutureWarning:\n",
      "\n",
      "The default value of `n_init` will change from 10 to 'auto' in 1.4. Set the value of `n_init` explicitly to suppress the warning\n",
      "\n"
     ]
    },
    {
     "name": "stdout",
     "output_type": "stream",
     "text": [
      "Número de Clusters: 9, WCSS: 158645.3659064098\n"
     ]
    },
    {
     "name": "stderr",
     "output_type": "stream",
     "text": [
      "c:\\Users\\Ronaldo\\AppData\\Local\\Programs\\Python\\Python311\\Lib\\site-packages\\sklearn\\cluster\\_kmeans.py:870: FutureWarning:\n",
      "\n",
      "The default value of `n_init` will change from 10 to 'auto' in 1.4. Set the value of `n_init` explicitly to suppress the warning\n",
      "\n"
     ]
    },
    {
     "name": "stdout",
     "output_type": "stream",
     "text": [
      "Número de Clusters: 10, WCSS: 156981.41241035511\n"
     ]
    },
    {
     "name": "stderr",
     "output_type": "stream",
     "text": [
      "c:\\Users\\Ronaldo\\AppData\\Local\\Programs\\Python\\Python311\\Lib\\site-packages\\sklearn\\cluster\\_kmeans.py:870: FutureWarning:\n",
      "\n",
      "The default value of `n_init` will change from 10 to 'auto' in 1.4. Set the value of `n_init` explicitly to suppress the warning\n",
      "\n"
     ]
    },
    {
     "name": "stdout",
     "output_type": "stream",
     "text": [
      "Número de Clusters: 11, WCSS: 155542.79858297895\n"
     ]
    },
    {
     "name": "stderr",
     "output_type": "stream",
     "text": [
      "c:\\Users\\Ronaldo\\AppData\\Local\\Programs\\Python\\Python311\\Lib\\site-packages\\sklearn\\cluster\\_kmeans.py:870: FutureWarning:\n",
      "\n",
      "The default value of `n_init` will change from 10 to 'auto' in 1.4. Set the value of `n_init` explicitly to suppress the warning\n",
      "\n"
     ]
    },
    {
     "name": "stdout",
     "output_type": "stream",
     "text": [
      "Número de Clusters: 12, WCSS: 154396.07478799898\n"
     ]
    },
    {
     "name": "stderr",
     "output_type": "stream",
     "text": [
      "c:\\Users\\Ronaldo\\AppData\\Local\\Programs\\Python\\Python311\\Lib\\site-packages\\sklearn\\cluster\\_kmeans.py:870: FutureWarning:\n",
      "\n",
      "The default value of `n_init` will change from 10 to 'auto' in 1.4. Set the value of `n_init` explicitly to suppress the warning\n",
      "\n"
     ]
    },
    {
     "name": "stdout",
     "output_type": "stream",
     "text": [
      "Número de Clusters: 13, WCSS: 153400.45706196758\n"
     ]
    },
    {
     "name": "stderr",
     "output_type": "stream",
     "text": [
      "c:\\Users\\Ronaldo\\AppData\\Local\\Programs\\Python\\Python311\\Lib\\site-packages\\sklearn\\cluster\\_kmeans.py:870: FutureWarning:\n",
      "\n",
      "The default value of `n_init` will change from 10 to 'auto' in 1.4. Set the value of `n_init` explicitly to suppress the warning\n",
      "\n"
     ]
    },
    {
     "name": "stdout",
     "output_type": "stream",
     "text": [
      "Número de Clusters: 14, WCSS: 152130.72028244147\n"
     ]
    },
    {
     "name": "stderr",
     "output_type": "stream",
     "text": [
      "c:\\Users\\Ronaldo\\AppData\\Local\\Programs\\Python\\Python311\\Lib\\site-packages\\sklearn\\cluster\\_kmeans.py:870: FutureWarning:\n",
      "\n",
      "The default value of `n_init` will change from 10 to 'auto' in 1.4. Set the value of `n_init` explicitly to suppress the warning\n",
      "\n"
     ]
    },
    {
     "name": "stdout",
     "output_type": "stream",
     "text": [
      "Número de Clusters: 15, WCSS: 151530.18507337224\n"
     ]
    },
    {
     "name": "stderr",
     "output_type": "stream",
     "text": [
      "c:\\Users\\Ronaldo\\AppData\\Local\\Programs\\Python\\Python311\\Lib\\site-packages\\sklearn\\cluster\\_kmeans.py:870: FutureWarning:\n",
      "\n",
      "The default value of `n_init` will change from 10 to 'auto' in 1.4. Set the value of `n_init` explicitly to suppress the warning\n",
      "\n"
     ]
    },
    {
     "name": "stdout",
     "output_type": "stream",
     "text": [
      "Número de Clusters: 16, WCSS: 150487.41432477703\n"
     ]
    },
    {
     "name": "stderr",
     "output_type": "stream",
     "text": [
      "c:\\Users\\Ronaldo\\AppData\\Local\\Programs\\Python\\Python311\\Lib\\site-packages\\sklearn\\cluster\\_kmeans.py:870: FutureWarning:\n",
      "\n",
      "The default value of `n_init` will change from 10 to 'auto' in 1.4. Set the value of `n_init` explicitly to suppress the warning\n",
      "\n"
     ]
    },
    {
     "name": "stdout",
     "output_type": "stream",
     "text": [
      "Número de Clusters: 17, WCSS: 149816.6247642897\n"
     ]
    },
    {
     "name": "stderr",
     "output_type": "stream",
     "text": [
      "c:\\Users\\Ronaldo\\AppData\\Local\\Programs\\Python\\Python311\\Lib\\site-packages\\sklearn\\cluster\\_kmeans.py:870: FutureWarning:\n",
      "\n",
      "The default value of `n_init` will change from 10 to 'auto' in 1.4. Set the value of `n_init` explicitly to suppress the warning\n",
      "\n"
     ]
    },
    {
     "name": "stdout",
     "output_type": "stream",
     "text": [
      "Número de Clusters: 18, WCSS: 148930.02137842646\n"
     ]
    },
    {
     "name": "stderr",
     "output_type": "stream",
     "text": [
      "c:\\Users\\Ronaldo\\AppData\\Local\\Programs\\Python\\Python311\\Lib\\site-packages\\sklearn\\cluster\\_kmeans.py:870: FutureWarning:\n",
      "\n",
      "The default value of `n_init` will change from 10 to 'auto' in 1.4. Set the value of `n_init` explicitly to suppress the warning\n",
      "\n"
     ]
    },
    {
     "name": "stdout",
     "output_type": "stream",
     "text": [
      "Número de Clusters: 19, WCSS: 148346.18462022106\n"
     ]
    },
    {
     "name": "stderr",
     "output_type": "stream",
     "text": [
      "c:\\Users\\Ronaldo\\AppData\\Local\\Programs\\Python\\Python311\\Lib\\site-packages\\sklearn\\cluster\\_kmeans.py:870: FutureWarning:\n",
      "\n",
      "The default value of `n_init` will change from 10 to 'auto' in 1.4. Set the value of `n_init` explicitly to suppress the warning\n",
      "\n"
     ]
    },
    {
     "name": "stdout",
     "output_type": "stream",
     "text": [
      "Número de Clusters: 20, WCSS: 147595.59256821117\n"
     ]
    },
    {
     "name": "stderr",
     "output_type": "stream",
     "text": [
      "c:\\Users\\Ronaldo\\AppData\\Local\\Programs\\Python\\Python311\\Lib\\site-packages\\sklearn\\cluster\\_kmeans.py:870: FutureWarning:\n",
      "\n",
      "The default value of `n_init` will change from 10 to 'auto' in 1.4. Set the value of `n_init` explicitly to suppress the warning\n",
      "\n"
     ]
    },
    {
     "name": "stdout",
     "output_type": "stream",
     "text": [
      "Número de Clusters: 21, WCSS: 146809.20122152357\n"
     ]
    },
    {
     "name": "stderr",
     "output_type": "stream",
     "text": [
      "c:\\Users\\Ronaldo\\AppData\\Local\\Programs\\Python\\Python311\\Lib\\site-packages\\sklearn\\cluster\\_kmeans.py:870: FutureWarning:\n",
      "\n",
      "The default value of `n_init` will change from 10 to 'auto' in 1.4. Set the value of `n_init` explicitly to suppress the warning\n",
      "\n"
     ]
    },
    {
     "name": "stdout",
     "output_type": "stream",
     "text": [
      "Número de Clusters: 22, WCSS: 146413.7050726511\n"
     ]
    },
    {
     "name": "stderr",
     "output_type": "stream",
     "text": [
      "c:\\Users\\Ronaldo\\AppData\\Local\\Programs\\Python\\Python311\\Lib\\site-packages\\sklearn\\cluster\\_kmeans.py:870: FutureWarning:\n",
      "\n",
      "The default value of `n_init` will change from 10 to 'auto' in 1.4. Set the value of `n_init` explicitly to suppress the warning\n",
      "\n"
     ]
    },
    {
     "name": "stdout",
     "output_type": "stream",
     "text": [
      "Número de Clusters: 23, WCSS: 145688.57166913024\n"
     ]
    },
    {
     "name": "stderr",
     "output_type": "stream",
     "text": [
      "c:\\Users\\Ronaldo\\AppData\\Local\\Programs\\Python\\Python311\\Lib\\site-packages\\sklearn\\cluster\\_kmeans.py:870: FutureWarning:\n",
      "\n",
      "The default value of `n_init` will change from 10 to 'auto' in 1.4. Set the value of `n_init` explicitly to suppress the warning\n",
      "\n"
     ]
    },
    {
     "name": "stdout",
     "output_type": "stream",
     "text": [
      "Número de Clusters: 24, WCSS: 144943.90924987357\n"
     ]
    },
    {
     "name": "stderr",
     "output_type": "stream",
     "text": [
      "c:\\Users\\Ronaldo\\AppData\\Local\\Programs\\Python\\Python311\\Lib\\site-packages\\sklearn\\cluster\\_kmeans.py:870: FutureWarning:\n",
      "\n",
      "The default value of `n_init` will change from 10 to 'auto' in 1.4. Set the value of `n_init` explicitly to suppress the warning\n",
      "\n"
     ]
    },
    {
     "name": "stdout",
     "output_type": "stream",
     "text": [
      "Número de Clusters: 25, WCSS: 144618.11811896786\n"
     ]
    }
   ],
   "source": [
    "# Soma das distâncias quadradas intra cluster\n",
    "wcss = []\n",
    "for i in range (1, 26):\n",
    "  kmeans_pca = KMeans(n_clusters = i, random_state=39)\n",
    "  kmeans_pca.fit(scores_pca['PC'])\n",
    "  wcss.append(kmeans_pca.inertia_)\n",
    "  print(f\"Número de Clusters: {i}, WCSS: {kmeans_pca.inertia_}\")"
   ]
  },
  {
   "attachments": {},
   "cell_type": "markdown",
   "metadata": {},
   "source": [
    "* Execute o algoritmo de clusterização, variando o número de clusters de forma iterativa.\n",
    "* Para cada valor de clusters, calcule a soma das distâncias quadráticas intra-cluster.\n",
    "* Observe o gráfico e identifique o ponto de inflexão, onde o acréscimo no número de clusters não resulta em uma redução significativa na soma das distâncias quadráticas."
   ]
  },
  {
   "cell_type": "code",
   "execution_count": 32,
   "metadata": {},
   "outputs": [
    {
     "data": {
      "image/png": "[encoded data removed]",
      "text/plain": [
       "<Figure size 1000x800 with 1 Axes>"
      ]
     },
     "metadata": {},
     "output_type": "display_data"
    }
   ],
   "source": [
    "plt.figure(figsize = (10,8))\n",
    "plt.plot(range(1,26), wcss, 'ro-', linewidth = 2)\n",
    "plt.xlabel('Número de clusters')\n",
    "plt.ylabel('WCSS')\n",
    "plt.title('K-Means com PCA')\n",
    "plt.show()"
   ]
  },
  {
   "attachments": {},
   "cell_type": "markdown",
   "metadata": {},
   "source": [
    "#  K-Means ponderado\n",
    "Os pontos de dados podem ter pesos diferentes. Isso permite dar mais importância a certos pontos durante o cálculo dos centroides, influenciando a estrutura do agrupamento resultante.\n",
    "\n",
    "Oo K-Means é um algoritmo popular de aprendizado não supervisionado usado para agrupar pontos de dados em clusters com base em sua proximidade. Ele opera através da atribuição iterativa dos pontos aos clusters e da atualização dos centroides. O K-Means ponderado é uma variante que permite atribuir pesos diferentes aos pontos de dados durante o cálculo dos centroides."
   ]
  },
  {
   "cell_type": "markdown",
   "metadata": {},
   "source": []
  }
 ],
 "metadata": {
  "kernelspec": {
   "display_name": "Python 3",
   "language": "python",
   "name": "python3"
  },
  "language_info": {
   "codemirror_mode": {
    "name": "ipython",
    "version": 3
   },
   "file_extension": ".py",
   "mimetype": "text/x-python",
   "name": "python",
   "nbconvert_exporter": "python",
   "pygments_lexer": "ipython3",
   "version": "3.11.3"
  },
  "orig_nbformat": 4
 },
 "nbformat": 4,
 "nbformat_minor": 2
}
